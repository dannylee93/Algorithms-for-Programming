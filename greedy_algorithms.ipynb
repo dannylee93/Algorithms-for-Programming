{
 "cells": [
  {
   "cell_type": "code",
   "execution_count": 1,
   "metadata": {},
   "outputs": [
    {
     "name": "stdout",
     "output_type": "stream",
     "text": [
      "min-comb :  6\n"
     ]
    }
   ],
   "source": [
    "# minimum combination\n",
    "n = 1260\n",
    "cnt = 0\n",
    "\n",
    "list = [500, 100, 50, 10]\n",
    "\n",
    "for coin in list :\n",
    "    cnt += n // coin\n",
    "    n %= coin\n",
    "\n",
    "print(\"min-comb : \", cnt)"
   ]
  },
  {
   "cell_type": "code",
   "execution_count": null,
   "metadata": {},
   "outputs": [],
   "source": [
    "n, m, k = map(int, input().split())\n",
    "numbers = list(map(int, input().split()))\n",
    "\n",
    "numbers.sort()\n",
    "first = numbers[n - 1]\n",
    "second = numbers[n - 2]\n",
    "\n",
    "result = 0\n",
    "\n",
    "while (True) :\n",
    "    for i in range(k) :\n",
    "        if m == 0 :\n",
    "            break\n",
    "        result += first\n",
    "        m -= 1\n",
    "    if m == 0 :\n",
    "        break\n",
    "    result += second\n",
    "    m -= 1\n",
    "\n",
    "print(result)"
   ]
  },
  {
   "cell_type": "code",
   "execution_count": null,
   "metadata": {},
   "outputs": [],
   "source": [
    "n, m = map(int, input().split())\n",
    "result = 0\n",
    "\n",
    "for i in range(n):\n",
    "    data_list = list(map(int, input().split()))\n",
    "    min_value = min(data_list)\n",
    "    result = max(result, min_value)\n",
    "\n",
    "print(result)"
   ]
  },
  {
   "cell_type": "code",
   "execution_count": null,
   "metadata": {},
   "outputs": [],
   "source": [
    "n, k = map(int, input().split())\n",
    "result = 0\n",
    "\n",
    "while (n >= k):\n",
    "  # 안 나누어질 때 n-1\n",
    "    while ((n % k) != 0):\n",
    "        n -= 1\n",
    "        result += 1\n",
    "    # k로 나누기\n",
    "    n //= k\n",
    "    result += 1\n",
    "\n",
    "while (n > 1):\n",
    "    n -= 1\n",
    "    result += 1"
   ]
  }
 ],
 "metadata": {
  "kernelspec": {
   "display_name": "Python 3",
   "language": "python",
   "name": "python3"
  },
  "language_info": {
   "codemirror_mode": {
    "name": "ipython",
    "version": 3
   },
   "file_extension": ".py",
   "mimetype": "text/x-python",
   "name": "python",
   "nbconvert_exporter": "python",
   "pygments_lexer": "ipython3",
   "version": "3.7.4"
  }
 },
 "nbformat": 4,
 "nbformat_minor": 2
}
